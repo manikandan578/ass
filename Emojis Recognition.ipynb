{
 "cells": [
  {
   "cell_type": "code",
   "execution_count": null,
   "id": "7d2c8cd1",
   "metadata": {},
   "outputs": [],
   "source": [
    "import os \n",
    "import warnings\n",
    "warnings.simplefilter('ignore')"
   ]
  },
  {
   "cell_type": "code",
   "execution_count": null,
   "id": "a5c11189",
   "metadata": {},
   "outputs": [],
   "source": [
    "import numpy as np\n",
    "import pandas as pd\n",
    "import matplotlib.pyplot as  plt\n",
    "%matplotlib inline"
   ]
  },
  {
   "cell_type": "code",
   "execution_count": null,
   "id": "37a093ed",
   "metadata": {},
   "outputs": [],
   "source": [
    "from skimage.io import imread, imshow\n",
    "from skimage.transform import resize\n",
    "from skimage.color import rgb2gray"
   ]
  },
  {
   "cell_type": "code",
   "execution_count": null,
   "id": "cba161a2",
   "metadata": {},
   "outputs": [],
   "source": [
    "smile=os.listdir(\"C:\\\\Users\\\\Priyadharshni\\\\Documents\\\\IV SEMESTER\\\\ML\\\\Data Emojis\\\\Smile\")"
   ]
  },
  {
   "cell_type": "code",
   "execution_count": null,
   "id": "fe3c4e2c",
   "metadata": {},
   "outputs": [],
   "source": [
    "anger=os.listdir(\"C:\\\\Users\\\\Priyadharshni\\\\Documents\\\\IV SEMESTER\\\\ML\\\\Data Emojis\\\\Anger\")"
   ]
  },
  {
   "cell_type": "code",
   "execution_count": null,
   "id": "f73c73c4",
   "metadata": {},
   "outputs": [],
   "source": [
    "sad=os.listdir(\"C:\\\\Users\\\\Priyadharshni\\\\Documents\\\\IV SEMESTER\\\\ML\\\\Data Emojis\\\\Sad\")"
   ]
  },
  {
   "cell_type": "code",
   "execution_count": null,
   "id": "2f134871",
   "metadata": {},
   "outputs": [],
   "source": [
    "limit=10\n",
    "smile_img=[None]*limit\n",
    "j=0\n",
    "for i in smile:\n",
    "    if(j<limit):\n",
    "        smile_img[j]=imread(\"C:\\\\Users\\\\Priyadharshni\\\\Documents\\\\IV SEMESTER\\\\ML\\\\Data Emojis\\\\Smile\\\\\"+i)\n",
    "        j+=1\n",
    "    else:\n",
    "        break"
   ]
  },
  {
   "cell_type": "code",
   "execution_count": null,
   "id": "d00711f9",
   "metadata": {},
   "outputs": [],
   "source": [
    "limit=10\n",
    "anger_img=[None]*limit\n",
    "j=0\n",
    "for i in anger:\n",
    "    if(j<limit):\n",
    "        anger_img[j]=imread(\"C:\\\\Users\\\\Priyadharshni\\\\Documents\\\\IV SEMESTER\\\\ML\\\\Data Emojis\\\\Anger\\\\\"+i)\n",
    "        j+=1\n",
    "    else:\n",
    "        break"
   ]
  },
  {
   "cell_type": "code",
   "execution_count": null,
   "id": "bccaa6b8",
   "metadata": {},
   "outputs": [],
   "source": [
    "limit=10\n",
    "sad_img=[None]*limit\n",
    "j=0\n",
    "for i in sad:\n",
    "    if(j<limit):\n",
    "        sad_img[j]=imread(\"C:\\\\Users\\\\Priyadharshni\\\\Documents\\\\IV SEMESTER\\\\ML\\\\Data Emojis\\\\Sad\\\\\"+i)\n",
    "        j+=1\n",
    "    else:\n",
    "        break"
   ]
  },
  {
   "cell_type": "code",
   "execution_count": null,
   "id": "a45c0357",
   "metadata": {},
   "outputs": [],
   "source": [
    "imshow(smile_img[0]) "
   ]
  },
  {
   "cell_type": "markdown",
   "id": "cce57c98",
   "metadata": {},
   "source": [
    "# B-3 Gray RGB2"
   ]
  },
  {
   "cell_type": "code",
   "execution_count": null,
   "id": "252ab1c9",
   "metadata": {},
   "outputs": [],
   "source": [
    "smile_gray=[None]*limit\n",
    "j=0\n",
    "for i in smile:\n",
    "    if(j<limit):\n",
    "        smile_gray[j]=rgb2gray(smile_img[j][:,:,:3])\n",
    "        j+=1\n",
    "    else:\n",
    "        break"
   ]
  },
  {
   "cell_type": "code",
   "execution_count": null,
   "id": "6f994c65",
   "metadata": {},
   "outputs": [],
   "source": [
    "anger_gray=[None]*limit\n",
    "j=0\n",
    "for i in anger:\n",
    "    if(j<limit):\n",
    "        anger_gray[j]=rgb2gray(anger_img[j][:,:,:3])\n",
    "        j+=1\n",
    "    else:\n",
    "        break"
   ]
  },
  {
   "cell_type": "code",
   "execution_count": null,
   "id": "dc750993",
   "metadata": {},
   "outputs": [],
   "source": [
    "sad_gray=[None]*limit\n",
    "j=0\n",
    "for i in sad:\n",
    "    if(j<limit):\n",
    "        sad_gray[j]=rgb2gray(sad_img[j][:,:,:3])\n",
    "        j+=1\n",
    "    else:\n",
    "        break"
   ]
  },
  {
   "cell_type": "code",
   "execution_count": null,
   "id": "db7d9ba9",
   "metadata": {},
   "outputs": [],
   "source": [
    "for j in range (10):\n",
    "    se=smile_gray[j]\n",
    "    smile_gray[j]=resize(se,(512,512))"
   ]
  },
  {
   "cell_type": "code",
   "execution_count": null,
   "id": "bd0d03c5",
   "metadata": {},
   "outputs": [],
   "source": [
    "for j in range (10):\n",
    "    ae=anger_gray[j]\n",
    "    anger_gray[j]=resize(ae,(512,512))"
   ]
  },
  {
   "cell_type": "code",
   "execution_count": null,
   "id": "140b19fb",
   "metadata": {},
   "outputs": [],
   "source": [
    "for j in range (10):\n",
    "    he=sad_gray[j]\n",
    "    sad_gray[j]=resize(he,(512,512))"
   ]
  },
  {
   "cell_type": "code",
   "execution_count": null,
   "id": "6f77e9df",
   "metadata": {},
   "outputs": [],
   "source": [
    "smile_gray[0].shape"
   ]
  },
  {
   "cell_type": "code",
   "execution_count": null,
   "id": "0d1bd32b",
   "metadata": {},
   "outputs": [],
   "source": [
    "anger_gray[0].shape"
   ]
  },
  {
   "cell_type": "code",
   "execution_count": null,
   "id": "41a19986",
   "metadata": {},
   "outputs": [],
   "source": [
    "sad_gray[0].shape"
   ]
  },
  {
   "cell_type": "markdown",
   "id": "ac750d59",
   "metadata": {},
   "source": [
    "# Happy"
   ]
  },
  {
   "cell_type": "code",
   "execution_count": null,
   "id": "5b125da6",
   "metadata": {},
   "outputs": [],
   "source": [
    "len_of_img_smile=len(smile_gray)\n",
    "len_of_img_smile"
   ]
  },
  {
   "cell_type": "code",
   "execution_count": null,
   "id": "755d935b",
   "metadata": {},
   "outputs": [],
   "source": [
    "img_size_smile=smile_gray[1].shape\n",
    "img_size_smile"
   ]
  },
  {
   "cell_type": "markdown",
   "id": "702c4aeb",
   "metadata": {},
   "source": [
    "# Flatten"
   ]
  },
  {
   "cell_type": "code",
   "execution_count": null,
   "id": "5942fe61",
   "metadata": {},
   "outputs": [],
   "source": [
    "flatten_size_smile=img_size_smile[0]*img_size_smile[1]\n",
    "flatten_size_smile"
   ]
  },
  {
   "cell_type": "code",
   "execution_count": null,
   "id": "821b6a74",
   "metadata": {},
   "outputs": [],
   "source": [
    "for i in range(len_of_img_smile):\n",
    "    smile_gray[i]=np.ndarray.flatten(smile_gray[i]).reshape(flatten_size_smile,1)"
   ]
  },
  {
   "cell_type": "code",
   "execution_count": null,
   "id": "4d7011ad",
   "metadata": {},
   "outputs": [],
   "source": [
    "np.ndarray.flatten"
   ]
  },
  {
   "cell_type": "code",
   "execution_count": null,
   "id": "c38b80e4",
   "metadata": {},
   "outputs": [],
   "source": [
    "smile_gray=np.dstack(smile_gray)\n",
    "smile_gray"
   ]
  },
  {
   "cell_type": "code",
   "execution_count": null,
   "id": "eec412a6",
   "metadata": {},
   "outputs": [],
   "source": [
    "smile_gray.shape"
   ]
  },
  {
   "cell_type": "code",
   "execution_count": null,
   "id": "1bc6f1b8",
   "metadata": {},
   "outputs": [],
   "source": [
    "smile_gray=np.rollaxis(smile_gray,axis=2,start=0)\n",
    "smile_gray.shape"
   ]
  },
  {
   "cell_type": "code",
   "execution_count": null,
   "id": "03f72a05",
   "metadata": {},
   "outputs": [],
   "source": [
    "smile_gray=smile_gray.reshape(len_of_img_smile,flatten_size_smile)\n",
    "smile_gray.shape"
   ]
  },
  {
   "cell_type": "code",
   "execution_count": null,
   "id": "31559266",
   "metadata": {},
   "outputs": [],
   "source": [
    "smile_data=pd.DataFrame(smile_gray)\n",
    "smile_data"
   ]
  },
  {
   "cell_type": "code",
   "execution_count": null,
   "id": "b043949c",
   "metadata": {},
   "outputs": [],
   "source": [
    "smile_data[\"Label\"]=\"smile\"\n",
    "smile_data"
   ]
  },
  {
   "cell_type": "markdown",
   "id": "314d2aac",
   "metadata": {},
   "source": [
    "# Angry"
   ]
  },
  {
   "cell_type": "code",
   "execution_count": null,
   "id": "0d1315f9",
   "metadata": {},
   "outputs": [],
   "source": [
    "len_of_img_anger=len(anger_gray)\n",
    "len_of_img_anger"
   ]
  },
  {
   "cell_type": "code",
   "execution_count": null,
   "id": "7676d024",
   "metadata": {},
   "outputs": [],
   "source": [
    "img_size_anger=anger_gray[1].shape\n",
    "img_size_anger"
   ]
  },
  {
   "cell_type": "code",
   "execution_count": null,
   "id": "f46ebe44",
   "metadata": {},
   "outputs": [],
   "source": [
    "flatten_size_anger=img_size_anger[0]*img_size_anger[1]\n",
    "flatten_size_anger"
   ]
  },
  {
   "cell_type": "code",
   "execution_count": null,
   "id": "d7020f87",
   "metadata": {},
   "outputs": [],
   "source": [
    "for i in range(len_of_img_anger):\n",
    "    anger_gray[i]=np.ndarray.flatten(anger_gray[i]).reshape(flatten_size_anger,1)"
   ]
  },
  {
   "cell_type": "code",
   "execution_count": null,
   "id": "f872f049",
   "metadata": {},
   "outputs": [],
   "source": [
    "np.ndarray.flatten"
   ]
  },
  {
   "cell_type": "code",
   "execution_count": null,
   "id": "aaf6cf93",
   "metadata": {},
   "outputs": [],
   "source": [
    "anger_gray=np.dstack(anger_gray)\n",
    "anger_gray"
   ]
  },
  {
   "cell_type": "code",
   "execution_count": null,
   "id": "a30db4c6",
   "metadata": {},
   "outputs": [],
   "source": [
    "anger_gray.shape"
   ]
  },
  {
   "cell_type": "code",
   "execution_count": null,
   "id": "5bb9106b",
   "metadata": {},
   "outputs": [],
   "source": [
    "anger_gray=np.rollaxis(anger_gray,axis=2,start=0)\n",
    "anger_gray.shape"
   ]
  },
  {
   "cell_type": "code",
   "execution_count": null,
   "id": "05349196",
   "metadata": {},
   "outputs": [],
   "source": [
    "anger_gray=anger_gray.reshape(len_of_img_anger,flatten_size_anger)\n",
    "anger_gray.shape"
   ]
  },
  {
   "cell_type": "code",
   "execution_count": null,
   "id": "85620134",
   "metadata": {},
   "outputs": [],
   "source": [
    "anger_data=pd.DataFrame(anger_gray)\n",
    "anger_data"
   ]
  },
  {
   "cell_type": "code",
   "execution_count": null,
   "id": "7eaaddbf",
   "metadata": {},
   "outputs": [],
   "source": [
    "anger_data[\"Label\"]=\"anger\"\n",
    "anger_data"
   ]
  },
  {
   "cell_type": "markdown",
   "id": "79553d61",
   "metadata": {},
   "source": [
    "# Sad"
   ]
  },
  {
   "cell_type": "code",
   "execution_count": null,
   "id": "77bcc577",
   "metadata": {},
   "outputs": [],
   "source": [
    "len_of_img_sad=len(sad_gray)\n",
    "len_of_img_sad"
   ]
  },
  {
   "cell_type": "code",
   "execution_count": null,
   "id": "bcbc903e",
   "metadata": {},
   "outputs": [],
   "source": [
    "img_size_sad=sad_gray[1].shape\n",
    "img_size_sad"
   ]
  },
  {
   "cell_type": "code",
   "execution_count": null,
   "id": "32562340",
   "metadata": {},
   "outputs": [],
   "source": [
    "flatten_size_sad=img_size_sad[0]*img_size_sad[1]\n",
    "flatten_size_sad"
   ]
  },
  {
   "cell_type": "code",
   "execution_count": null,
   "id": "d41f5dfe",
   "metadata": {},
   "outputs": [],
   "source": [
    "for i in range(len_of_img_sad):\n",
    "    sad_gray[i]=np.ndarray.flatten(sad_gray[i]).reshape(flatten_size_sad,1)"
   ]
  },
  {
   "cell_type": "code",
   "execution_count": null,
   "id": "859d28b6",
   "metadata": {},
   "outputs": [],
   "source": [
    "np.ndarray.flatten"
   ]
  },
  {
   "cell_type": "code",
   "execution_count": null,
   "id": "edb94672",
   "metadata": {},
   "outputs": [],
   "source": [
    "sad_gray=np.dstack(sad_gray)\n",
    "sad_gray"
   ]
  },
  {
   "cell_type": "code",
   "execution_count": null,
   "id": "7ac9cea9",
   "metadata": {},
   "outputs": [],
   "source": [
    "sad_gray.shape"
   ]
  },
  {
   "cell_type": "code",
   "execution_count": null,
   "id": "caebda62",
   "metadata": {},
   "outputs": [],
   "source": [
    "sad_gray=np.rollaxis(sad_gray,axis=2,start=0)\n",
    "sad_gray.shape"
   ]
  },
  {
   "cell_type": "code",
   "execution_count": null,
   "id": "51517006",
   "metadata": {},
   "outputs": [],
   "source": [
    "sad_gray=sad_gray.reshape(len_of_img_sad,flatten_size_sad)\n",
    "sad_gray.shape"
   ]
  },
  {
   "cell_type": "code",
   "execution_count": null,
   "id": "111a95e6",
   "metadata": {},
   "outputs": [],
   "source": [
    "sad_data=pd.DataFrame(sad_gray)\n",
    "sad_data"
   ]
  },
  {
   "cell_type": "code",
   "execution_count": null,
   "id": "8ad0ff4d",
   "metadata": {},
   "outputs": [],
   "source": [
    "sad_data[\"Label\"]=\"sad\"\n",
    "sad_data"
   ]
  },
  {
   "cell_type": "markdown",
   "id": "b38030ed",
   "metadata": {},
   "source": [
    "# Merge Images"
   ]
  },
  {
   "cell_type": "code",
   "execution_count": null,
   "id": "15a4d4a2",
   "metadata": {},
   "outputs": [],
   "source": [
    "a_1=pd.concat([smile_data,sad_data])"
   ]
  },
  {
   "cell_type": "code",
   "execution_count": null,
   "id": "6d6de03e",
   "metadata": {},
   "outputs": [],
   "source": [
    "a=pd.concat([a_1,anger_data])"
   ]
  },
  {
   "cell_type": "code",
   "execution_count": null,
   "id": "bf97eb30",
   "metadata": {},
   "outputs": [],
   "source": [
    "a"
   ]
  },
  {
   "cell_type": "markdown",
   "id": "3570b361",
   "metadata": {},
   "source": [
    "# Shuffling"
   ]
  },
  {
   "cell_type": "code",
   "execution_count": null,
   "id": "7725ce6e",
   "metadata": {},
   "outputs": [],
   "source": [
    "from sklearn.utils import shuffle"
   ]
  },
  {
   "cell_type": "code",
   "execution_count": null,
   "id": "0602b3d4",
   "metadata": {},
   "outputs": [],
   "source": [
    "fb_indexed=shuffle(man).reset_index()\n",
    "fb_indexed"
   ]
  },
  {
   "cell_type": "code",
   "execution_count": null,
   "id": "748be601",
   "metadata": {},
   "outputs": [],
   "source": [
    "fb_man=fb_indexed.drop(['index'],axis=1)"
   ]
  },
  {
   "cell_type": "code",
   "execution_count": null,
   "id": "5c110aff",
   "metadata": {},
   "outputs": [],
   "source": [
    "fb_man.to_csv(\"Emojis.csv\")"
   ]
  },
  {
   "cell_type": "code",
   "execution_count": null,
   "id": "1bc9c53f",
   "metadata": {},
   "outputs": [],
   "source": [
    "x = fb_man.values[:,:-1]"
   ]
  },
  {
   "cell_type": "code",
   "execution_count": null,
   "id": "379abbd3",
   "metadata": {},
   "outputs": [],
   "source": [
    "y = fb_man.values[:,-1]"
   ]
  },
  {
   "cell_type": "code",
   "execution_count": null,
   "id": "854b4964",
   "metadata": {},
   "outputs": [],
   "source": [
    "from sklearn.model_selection import train_test_split"
   ]
  },
  {
   "cell_type": "code",
   "execution_count": null,
   "id": "d299d31a",
   "metadata": {},
   "outputs": [],
   "source": [
    "x_train,x_test,y_train,y_test = train_test_split(x,y,test_size=0.2,random_state=1)"
   ]
  },
  {
   "cell_type": "code",
   "execution_count": null,
   "id": "6c9d471b",
   "metadata": {},
   "outputs": [],
   "source": [
    "x_train.shape"
   ]
  },
  {
   "cell_type": "code",
   "execution_count": null,
   "id": "9179d6dc",
   "metadata": {},
   "outputs": [],
   "source": [
    "x_test.shape"
   ]
  },
  {
   "cell_type": "markdown",
   "id": "0e2da1ec",
   "metadata": {},
   "source": [
    "# Decomposition"
   ]
  },
  {
   "cell_type": "code",
   "execution_count": null,
   "id": "30f09581",
   "metadata": {},
   "outputs": [],
   "source": [
    "from sklearn import decomposition"
   ]
  },
  {
   "cell_type": "code",
   "execution_count": null,
   "id": "3341fdaa",
   "metadata": {},
   "outputs": [],
   "source": [
    "pca = decomposition.PCA(n_components=10, whiten=True, random_state=1)"
   ]
  },
  {
   "cell_type": "markdown",
   "id": "ac609cb9",
   "metadata": {},
   "source": [
    "# Fitting Training Set"
   ]
  },
  {
   "cell_type": "code",
   "execution_count": null,
   "id": "eef47a21",
   "metadata": {},
   "outputs": [],
   "source": [
    "pca.fit(x_train)"
   ]
  },
  {
   "cell_type": "markdown",
   "id": "d348bba3",
   "metadata": {},
   "source": [
    "# Change Training Set"
   ]
  },
  {
   "cell_type": "code",
   "execution_count": null,
   "id": "7f08c902",
   "metadata": {},
   "outputs": [],
   "source": [
    "x_train_pca = pca.transform(x_train)\n",
    "x_test_pca = pca.transform(x_test)"
   ]
  },
  {
   "cell_type": "code",
   "execution_count": null,
   "id": "5f2fe801",
   "metadata": {},
   "outputs": [],
   "source": [
    "x_train_pca.shape"
   ]
  },
  {
   "cell_type": "code",
   "execution_count": null,
   "id": "4c448d43",
   "metadata": {},
   "outputs": [],
   "source": [
    "x_test_pca.shape"
   ]
  },
  {
   "cell_type": "markdown",
   "id": "3545c11f",
   "metadata": {},
   "source": [
    "# Viewing The Princeple Components or eigen"
   ]
  },
  {
   "cell_type": "code",
   "execution_count": null,
   "id": "863d0dab",
   "metadata": {},
   "outputs": [],
   "source": [
    "eigen = (np.reshape(x[10],(512,512)).astype(np.float64))\n",
    "eigen"
   ]
  },
  {
   "cell_type": "markdown",
   "id": "8870e46a",
   "metadata": {},
   "source": [
    "# Plotting"
   ]
  },
  {
   "cell_type": "code",
   "execution_count": null,
   "id": "99e4e381",
   "metadata": {},
   "outputs": [],
   "source": [
    "fig = plt.figure(figsize=(30,30))\n",
    "for i in range(10):\n",
    "    ax = fig.add_subplot(2, 5, i+1, xticks=[], yticks=[])\n",
    "    ax.imshow(pca.components_[i].reshape(eigen.shape),cmap=plt.cm.bone)"
   ]
  },
  {
   "cell_type": "markdown",
   "id": "28a63c64",
   "metadata": {},
   "source": [
    "# Support Vector Machine"
   ]
  },
  {
   "cell_type": "code",
   "execution_count": null,
   "id": "240c76f3",
   "metadata": {},
   "outputs": [],
   "source": [
    "from sklearn.ensemble import RandomForestClassifier"
   ]
  },
  {
   "cell_type": "code",
   "execution_count": null,
   "id": "0c6d8c4e",
   "metadata": {},
   "outputs": [],
   "source": [
    "clf = RandomForestClassifier(n_estimators=100, random_state=42) \n",
    "clf.fit(x_train_pca, y_train)"
   ]
  },
  {
   "cell_type": "code",
   "execution_count": null,
   "id": "f5091de5",
   "metadata": {},
   "outputs": [],
   "source": []
  },
  {
   "cell_type": "markdown",
   "id": "7b3702e7",
   "metadata": {},
   "source": [
    "# Image Prediction"
   ]
  },
  {
   "cell_type": "code",
   "execution_count": null,
   "id": "93597300",
   "metadata": {},
   "outputs": [],
   "source": [
    "y_predict = clf.predict(x_test_pca)"
   ]
  },
  {
   "cell_type": "code",
   "execution_count": null,
   "id": "4b15dc0a",
   "metadata": {},
   "outputs": [],
   "source": [
    "for i in (np.random.randint(0,6,6)):\n",
    "    predicted_images = (np.reshape(x_test[i], (512,512)).astype(np.float64))\n",
    "    plt.title('predicted label: {0}'. format(y_predict[i]))\n",
    "    plt.imshow(predicted_images,interpolation = 'nearest',cmap= 'gray')\n",
    "    plt.show()"
   ]
  },
  {
   "cell_type": "code",
   "execution_count": null,
   "id": "424a52c6",
   "metadata": {},
   "outputs": [],
   "source": [
    "from sklearn import metrics"
   ]
  },
  {
   "cell_type": "code",
   "execution_count": null,
   "id": "985a3f86",
   "metadata": {},
   "outputs": [],
   "source": [
    "accuracy=metrics.accuracy_score(y_test,y_predict)\n",
    "accuracy"
   ]
  },
  {
   "cell_type": "code",
   "execution_count": null,
   "id": "97b0c415",
   "metadata": {},
   "outputs": [],
   "source": [
    "from sklearn.metrics import confusion_matrix"
   ]
  },
  {
   "cell_type": "code",
   "execution_count": null,
   "id": "e68906e4",
   "metadata": {},
   "outputs": [],
   "source": [
    "confusion_matrix(y_test , y_predict)"
   ]
  },
  {
   "cell_type": "code",
   "execution_count": null,
   "id": "b48e5b85",
   "metadata": {},
   "outputs": [],
   "source": []
  }
 ],
 "metadata": {
  "kernelspec": {
   "display_name": "Python 3 (ipykernel)",
   "language": "python",
   "name": "python3"
  },
  "language_info": {
   "codemirror_mode": {
    "name": "ipython",
    "version": 3
   },
   "file_extension": ".py",
   "mimetype": "text/x-python",
   "name": "python",
   "nbconvert_exporter": "python",
   "pygments_lexer": "ipython3",
   "version": "3.11.5"
  }
 },
 "nbformat": 4,
 "nbformat_minor": 5
}
